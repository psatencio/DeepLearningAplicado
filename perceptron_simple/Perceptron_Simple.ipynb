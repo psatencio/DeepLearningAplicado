{
 "cells": [
  {
   "cell_type": "code",
   "execution_count": 1,
   "metadata": {},
   "outputs": [],
   "source": [
    "import numpy as np"
   ]
  },
  {
   "cell_type": "code",
   "execution_count": 225,
   "metadata": {},
   "outputs": [],
   "source": [
    "def f_activation(z):\n",
    "    a = np.zeros(z.shape)\n",
    "    \n",
    "    for i in range(z.shape[1]):\n",
    "        if(z[:, i] <= 0):\n",
    "            a[:, i] = 0\n",
    "        else:\n",
    "            a[:, i] = 1\n",
    "            \n",
    "    return a"
   ]
  },
  {
   "cell_type": "code",
   "execution_count": 242,
   "metadata": {},
   "outputs": [],
   "source": [
    "def feed_forward(x, W, b):\n",
    "    z = np.dot(W.T, x) + b    \n",
    "    a = f_activation(z)\n",
    "    \n",
    "    return a"
   ]
  },
  {
   "cell_type": "code",
   "execution_count": 246,
   "metadata": {},
   "outputs": [
    {
     "name": "stdout",
     "output_type": "stream",
     "text": [
      "(3, 1)\n",
      "[[ 0.]]\n"
     ]
    }
   ],
   "source": [
    "x = np.array([[0.5], [0.1], [-0.5]])\n",
    "W = np.array([[0.4],[0.2],[-0.4]])\n",
    "\n",
    "print W.shape\n",
    "b = -20\n",
    "\n",
    "print feed_forward(x,W,b)"
   ]
  },
  {
   "cell_type": "code",
   "execution_count": 247,
   "metadata": {},
   "outputs": [],
   "source": [
    "def error(t, a):\n",
    "    return t - a"
   ]
  },
  {
   "cell_type": "code",
   "execution_count": 251,
   "metadata": {},
   "outputs": [],
   "source": [
    "x = np.array([[1,-1,0], [2,2,-1]], dtype=np.float)\n",
    "W = np.array([[1.], [-0.8]], dtype=np.float)\n",
    "t = np.array([[1.,0.,0.]], dtype=np.float)\n",
    "b = 0"
   ]
  },
  {
   "cell_type": "code",
   "execution_count": 252,
   "metadata": {},
   "outputs": [
    {
     "data": {
      "image/png": "[encoded data removed]",
      "text/plain": [
       "<matplotlib.figure.Figure at 0x10899fbd0>"
      ]
     },
     "metadata": {},
     "output_type": "display_data"
    }
   ],
   "source": [
    "import matplotlib.pyplot as plt\n",
    "\n",
    "plt.scatter(x[0], x[1])\n",
    "plt.show()"
   ]
  },
  {
   "cell_type": "code",
   "execution_count": 254,
   "metadata": {},
   "outputs": [
    {
     "name": "stdout",
     "output_type": "stream",
     "text": [
      "z:  [[-0.6 -2.6  0.8]]\n",
      "a:  [[ 0.  0.  1.]]\n",
      "t:  [[ 1.  0.  0.]]\n"
     ]
    }
   ],
   "source": [
    "print \"z: \", np.dot(W.T, x)+b\n",
    "a = feed_forward(x, W, b)\n",
    "print \"a: \", a\n",
    "print \"t: \", t"
   ]
  },
  {
   "cell_type": "code",
   "execution_count": 255,
   "metadata": {},
   "outputs": [
    {
     "name": "stdout",
     "output_type": "stream",
     "text": [
      "[[ 1.  0. -1.]]\n"
     ]
    }
   ],
   "source": [
    "print error(t, a)"
   ]
  },
  {
   "cell_type": "code",
   "execution_count": 257,
   "metadata": {},
   "outputs": [
    {
     "name": "stdout",
     "output_type": "stream",
     "text": [
      "Initial W:  [[ 1. ]\n",
      " [-0.8]] Initial bias:  0\n",
      "epoch:  0\n",
      "x:  [[ 1. -1.  0.]\n",
      " [ 2.  2. -1.]]\n",
      "a:  [[ 0.  0.  1.]]  t:  [[ 1.  0.  0.]]\n",
      "error [[ 1.  0. -1.]]\n",
      "epoch:  1\n",
      "x:  [[ 1. -1.  0.]\n",
      " [ 2.  2. -1.]]\n",
      "a:  [[ 1.  1.  0.]]  t:  [[ 1.  0.  0.]]\n",
      "error [[ 0. -1.  0.]]\n",
      "epoch:  2\n",
      "x:  [[ 1. -1.  0.]\n",
      " [ 2.  2. -1.]]\n",
      "a:  [[ 1.  0.  0.]]  t:  [[ 1.  0.  0.]]\n",
      "error [[ 0.  0.  0.]]\n",
      "final W:  [[ 3. ]\n",
      " [ 0.2]] final bias:  [[-1.]]\n"
     ]
    }
   ],
   "source": [
    "epochs = 3\n",
    "\n",
    "x = np.array([[1,-1,0], [2,2,-1]], dtype=np.float)\n",
    "W = np.array([[1.], [-0.8]], dtype=np.float)\n",
    "t = np.array([[1.,0.,0.]], dtype=np.float)\n",
    "b = 0\n",
    "\n",
    "print \"Initial W: \", W, \"Initial bias: \", b\n",
    "\n",
    "for i in range(epochs):\n",
    "    print \"epoch: \", i\n",
    "    a = feed_forward(x,W,b)\n",
    "    e = t - a\n",
    "    \n",
    "    print \"x: \", x\n",
    "    print \"a: \", a, \" t: \", t\n",
    "    print \"error\", e\n",
    "    \n",
    "    for j in range(t.shape[1]):\n",
    "        W = W + e[None, :, j]*x[None, :, j].T\n",
    "        b = b + e[None, :, j]\n",
    "\n",
    "print \"final W: \", W, \"final bias: \", b"
   ]
  },
  {
   "cell_type": "code",
   "execution_count": 240,
   "metadata": {},
   "outputs": [
    {
     "name": "stdout",
     "output_type": "stream",
     "text": [
      "[[ 1.  0.  0.]]\n"
     ]
    }
   ],
   "source": [
    "print feed_forward(x,W,b)"
   ]
  },
  {
   "cell_type": "code",
   "execution_count": null,
   "metadata": {},
   "outputs": [],
   "source": []
  }
 ],
 "metadata": {
  "kernelspec": {
   "display_name": "Python 2",
   "language": "python",
   "name": "python2"
  },
  "language_info": {
   "codemirror_mode": {
    "name": "ipython",
    "version": 2
   },
   "file_extension": ".py",
   "mimetype": "text/x-python",
   "name": "python",
   "nbconvert_exporter": "python",
   "pygments_lexer": "ipython2",
   "version": "2.7.12"
  }
 },
 "nbformat": 4,
 "nbformat_minor": 2
}
