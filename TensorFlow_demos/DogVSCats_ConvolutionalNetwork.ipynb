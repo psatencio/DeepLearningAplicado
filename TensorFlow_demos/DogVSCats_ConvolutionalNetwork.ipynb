{
 "cells": [
  {
   "cell_type": "markdown",
   "metadata": {},
   "source": [
    "<hr>\n",
    "Este ejemplo toma parte de implementaciones de las siguientes fuentes:\n",
    "- https://pythonprogramming.net/convolutional-neural-network-kats-vs-dogs-machine-learning-tutorial/ y adaptado para el semillero de DeepLearningAplicado\n",
    "- https://www.kaggle.com/stevenhurwitt/cats-vs-dogs-using-a-keras-convnet"
   ]
  },
  {
   "cell_type": "markdown",
   "metadata": {
    "collapsed": true
   },
   "source": [
    "# Full run through of raw images to classification with Convolutional Neural Network #\n",
    "\n",
    "In this tutorial, we're going to be running through taking raw images that have been labeled for us already, and then feeding them through a convolutional neural network for classification. \n",
    "\n",
    "The images are either of dog(s) or cat(s). \n",
    "\n",
    "Once you have downloaded and extracted the data from https://www.kaggle.com/c/dogs-vs-cats-redux-kernels-edition/data, you're ready to begin."
   ]
  },
  {
   "cell_type": "code",
   "execution_count": null,
   "metadata": {
    "collapsed": true,
    "scrolled": true
   },
   "outputs": [],
   "source": [
    "import numpy as np         # dealing with arrays\n",
    "import os                  # dealing with directories\n",
    "from random import shuffle # mixing up or currently ordered data that might lead our network astray in training.\n",
    "from tqdm import tqdm      # a nice pretty percentage bar for tasks. Thanks to viewer Daniel Bühler for this suggestion\n",
    "\n",
    "from __future__ import print_function\n",
    "import keras\n",
    "from keras.datasets import mnist\n",
    "from keras.layers import Dense, Flatten, Dropout\n",
    "from keras.layers import Conv2D, MaxPooling2D\n",
    "from keras.models import Sequential\n",
    "import matplotlib.pylab as plt\n",
    "\n",
    "#TRAIN_DIR = 'dataset/dogscats/sample/train'\n",
    "TRAIN_DIR = 'dataset/dogscats/train'\n",
    "TEST_DIR = 'dataset/dogscats/sample/valid'\n",
    "IMG_SIZE = 64\n",
    "NUM_CLASSES = 2"
   ]
  },
  {
   "cell_type": "markdown",
   "metadata": {},
   "source": [
    "Now, our first order of business is to convert the images and labels to array information that we can pass through our network. To do this, we'll need a helper function to convert the image name to an array. \n",
    "\n",
    "Our images are labeled like \"cat.1\" or \"dog.3\" and so on, so we can just split out the dog/cat, and then convert to an array like so:"
   ]
  },
  {
   "cell_type": "code",
   "execution_count": null,
   "metadata": {
    "collapsed": true
   },
   "outputs": [],
   "source": [
    "def label_img(img):\n",
    "    word_label = img.split('.')[-3]\n",
    "    # conversion to one-hot array [cat,dog]\n",
    "    #                            [much cat, no dog]\n",
    "    if word_label == 'cat': return [1,0]\n",
    "    #                             [no cat, very doggo]\n",
    "    elif word_label == 'dog': return [0,1]"
   ]
  },
  {
   "cell_type": "markdown",
   "metadata": {},
   "source": [
    "Now, we can build another function to fully process the training images and their labels into arrays:"
   ]
  },
  {
   "cell_type": "code",
   "execution_count": null,
   "metadata": {
    "collapsed": true
   },
   "outputs": [],
   "source": [
    "from skimage.io import imread\n",
    "from skimage.transform import resize\n",
    "\n",
    "def load_dataset(folder_path):\n",
    "    dir_list = os.listdir(folder_path)\n",
    "\n",
    "    training_data = np.zeros([len(dir_list), IMG_SIZE, IMG_SIZE, 3])\n",
    "    training_classes = np.zeros([len(dir_list), 2])\n",
    "    \n",
    "    i = 0\n",
    "    for img in tqdm(dir_list):\n",
    "        label = label_img(img)\n",
    "        path = os.path.join(folder_path,img)\n",
    "        \n",
    "        img = imread(path, as_grey=True)\n",
    "        img_res = resize(img, (IMG_SIZE, IMG_SIZE)).reshape(IMG_SIZE, IMG_SIZE, 1)\n",
    "           \n",
    "        training_data[i] = img_res\n",
    "        training_classes[i] = label\n",
    "        \n",
    "        i += 1\n",
    "    \n",
    "    return (training_data, training_classes)"
   ]
  },
  {
   "cell_type": "markdown",
   "metadata": {},
   "source": [
    "## Now, we can run the training:"
   ]
  },
  {
   "cell_type": "code",
   "execution_count": null,
   "metadata": {},
   "outputs": [],
   "source": [
    "(train_data, train_classes) = load_dataset(TRAIN_DIR)\n",
    "(test_data, test_classes) = load_dataset(TEST_DIR)"
   ]
  },
  {
   "cell_type": "code",
   "execution_count": null,
   "metadata": {},
   "outputs": [],
   "source": [
    "print(train_len)\n",
    "print(shuffle_index)"
   ]
  },
  {
   "cell_type": "code",
   "execution_count": null,
   "metadata": {
    "collapsed": true
   },
   "outputs": [],
   "source": [
    "train_len = len(train_data)\n",
    "shuffle_index = np.random.permutation(train_len)\n",
    "\n",
    "train_x = train_data[shuffle_index[0:1000]]\n",
    "test_x = train_data[shuffle_index[1000:1500]]\n",
    "\n",
    "train_y = train_classes[shuffle_index[0:1000]]\n",
    "test_y = train_classes[shuffle_index[1000:1500]]\n",
    "\n",
    "input_shape = (IMG_SIZE, IMG_SIZE, 3)"
   ]
  },
  {
   "cell_type": "code",
   "execution_count": null,
   "metadata": {},
   "outputs": [],
   "source": [
    "import matplotlib.pyplot as plt\n",
    "\n",
    "rand_index = np.random.randint(500)\n",
    "\n",
    "plt.imshow(test_x[rand_index], cmap=\"gray\")\n",
    "plt.show()\n",
    "\n",
    "print(test_y[rand_index])"
   ]
  },
  {
   "cell_type": "code",
   "execution_count": null,
   "metadata": {
    "collapsed": true
   },
   "outputs": [],
   "source": [
    "train_x = train_x.astype('float32') / 255.\n",
    "test_x = test_x.astype('float32') / 255."
   ]
  },
  {
   "cell_type": "markdown",
   "metadata": {},
   "source": [
    "# Convolutional Neural Network: Keras"
   ]
  },
  {
   "cell_type": "code",
   "execution_count": null,
   "metadata": {
    "collapsed": true
   },
   "outputs": [],
   "source": [
    "#Model Architecture\n",
    "model = Sequential()\n",
    "model.add(Conv2D(32, kernel_size=(3, 3), strides=(1, 1),\n",
    "                 activation='relu',\n",
    "                 input_shape=input_shape))\n",
    "model.add(MaxPooling2D(pool_size=(3, 3), strides=(1, 1)))\n",
    "model.add(Conv2D(32, (3, 3), activation='relu'))\n",
    "model.add(MaxPooling2D(pool_size=(1, 1)))\n",
    "model.add(Flatten())\n",
    "model.add(Dense(1024, activation='relu'))\n",
    "model.add(Dense(NUM_CLASSES, activation='softmax'))\n",
    "\n",
    "#Model Compilation\n",
    "model.compile(loss=keras.losses.categorical_crossentropy,\n",
    "              optimizer=keras.optimizers.Adam(),\n",
    "              metrics=['accuracy'])"
   ]
  },
  {
   "cell_type": "code",
   "execution_count": null,
   "metadata": {},
   "outputs": [],
   "source": [
    "model = Sequential()\n",
    "\n",
    "#Convolutional block 1\n",
    "model.add(Conv2D(32, kernel_size=(5, 5), strides=(1, 1), activation='relu', input_shape=input_shape))\n",
    "model.add(MaxPooling2D(pool_size=(5, 5), strides=(1, 1)))\n",
    "\n",
    "#Convolutional block 2\n",
    "model.add(Conv2D(64, kernel_size=(5, 5), strides=(1, 1),activation='relu', input_shape=input_shape))\n",
    "model.add(MaxPooling2D(pool_size=(5, 5), strides=(1, 1)))\n",
    "\n",
    "#Convolutional block 3\n",
    "model.add(Conv2D(128, kernel_size=(5, 5), strides=(1, 1), activation='relu', input_shape=input_shape))\n",
    "model.add(MaxPooling2D(pool_size=(5, 5), strides=(1, 1)))\n",
    "\n",
    "#Convolutional block 4\n",
    "model.add(Conv2D(64, kernel_size=(5, 5), strides=(1, 1), activation='relu', input_shape=input_shape))\n",
    "model.add(MaxPooling2D(pool_size=(5, 5), strides=(1, 1)))\n",
    "\n",
    "#Convolutional block 3\n",
    "model.add(Conv2D(32, kernel_size=(5, 5), strides=(1, 1), activation='relu', input_shape=input_shape))\n",
    "model.add(MaxPooling2D(pool_size=(5, 5), strides=(1, 1)))\n",
    "\n",
    "#FCN + Dropout\n",
    "model.add(Flatten())\n",
    "model.add(Dense(1024, activation='relu'))\n",
    "model.add(Dropout(0.5))\n",
    "\n",
    "#Last layer Softmax\n",
    "model.add(Dense(NUM_CLASSES, activation='softmax'))\n",
    "\n",
    "#Model Compilation\n",
    "model.compile(loss=keras.losses.categorical_crossentropy,\n",
    "              optimizer=keras.optimizers.Adam(),\n",
    "              metrics=['accuracy'])"
   ]
  },
  {
   "cell_type": "code",
   "execution_count": null,
   "metadata": {
    "collapsed": true
   },
   "outputs": [],
   "source": [
    "from keras.models import Sequential\n",
    "from keras.layers import Input, Dropout, Flatten, Conv2D, MaxPooling2D, Dense, Activation\n",
    "from keras.optimizers import RMSprop\n",
    "from keras.callbacks import ModelCheckpoint, Callback, EarlyStopping\n",
    "from keras.utils import np_utils\n",
    "\n",
    "optimizer = keras.optimizers.Adam(lr=0.0001)\n",
    "objective = 'binary_crossentropy'\n",
    "\n",
    "input_shape = [None, IMG_SIZE, IMG_SIZE, 3]\n",
    "\n",
    "def catdog():\n",
    "    \n",
    "    model = Sequential()\n",
    "\n",
    "    model.add(Conv2D(32, 3, padding='same', input_shape=input_shape, activation='relu'))\n",
    "    model.add(Conv2D(32, 3, padding='same', activation='relu'))\n",
    "    model.add(MaxPooling2D(pool_size=(2, 2), data_format=\"channels_first\"))\n",
    "    #print(\"First layer...\")\n",
    "    model.add(Conv2D(64, 3, padding='same', activation='relu'))\n",
    "    model.add(Conv2D(64, 3, padding='same', activation='relu'))\n",
    "    model.add(MaxPooling2D(pool_size=(2, 2), data_format=\"channels_first\"))\n",
    "    #print(\"Second layer...\")\n",
    "    model.add(Conv2D(128, 3, padding='same', activation='relu'))\n",
    "    model.add(Conv2D(128, 3, padding='same', activation='relu'))\n",
    "    model.add(MaxPooling2D(pool_size=(2, 2), data_format=\"channels_first\"))\n",
    "    #print(\"Third layer...\")\n",
    "    model.add(Conv2D(256,  kernel_size=(3, 3), strides=(1, 1), padding='same', activation='relu'))\n",
    "    model.add(Conv2D(256,  kernel_size=(3, 3), strides=(1, 1), padding='same', activation='relu'))\n",
    "    model.add(Conv2D(256,  kernel_size=(3, 3), strides=(1, 1), padding='same', activation='relu'))\n",
    "    model.add(MaxPooling2D(pool_size=(2, 2), data_format=\"channels_first\"))\n",
    "\n",
    "    #model.add(Conv2D(256, (3, 3), padding='same', activation='relu'))\n",
    "    #model.add(Conv2D(256, (3, 3), padding='same', activation='relu'))\n",
    "    #model.add(Conv2D(256, (3, 3), padding='same', activation='relu'))\n",
    "    #model.add(MaxPooling2D(pool_size=(2, 2)))\n",
    "    #print(\"Flattening, etc...\")\n",
    "    model.add(Flatten())\n",
    "    model.add(Dense(512, activation='relu'))\n",
    "    model.add(Dropout(0.5))\n",
    "    \n",
    "    model.add(Dense(512, activation='relu'))\n",
    "    model.add(Dense(2, activation='softmax'))\n",
    "    \n",
    "    print(\"Compiling model...\")\n",
    "    model.compile(loss=objective, optimizer=optimizer, metrics=['accuracy'])\n",
    "    print(\"Model compiled\")\n",
    "    \n",
    "    return model"
   ]
  },
  {
   "cell_type": "code",
   "execution_count": null,
   "metadata": {},
   "outputs": [],
   "source": [
    "model = catdog()"
   ]
  },
  {
   "cell_type": "markdown",
   "metadata": {},
   "source": [
    "Now we fit for 3 epochs:"
   ]
  },
  {
   "cell_type": "code",
   "execution_count": null,
   "metadata": {},
   "outputs": [],
   "source": [
    "batch_size = 32\n",
    "num_epochs = 10\n",
    "\n",
    "model.fit(train_x, train_y,\n",
    "          batch_size=batch_size,\n",
    "          epochs=num_epochs,\n",
    "          verbose=1,\n",
    "          validation_data=(test_x, test_y))"
   ]
  },
  {
   "cell_type": "markdown",
   "metadata": {},
   "source": [
    "Hmm... it doesn't look like we've gotten anywhere at all. "
   ]
  }
 ],
 "metadata": {
  "kernelspec": {
   "display_name": "Python 2",
   "language": "python",
   "name": "python2"
  },
  "language_info": {
   "codemirror_mode": {
    "name": "ipython",
    "version": 2
   },
   "file_extension": ".py",
   "mimetype": "text/x-python",
   "name": "python",
   "nbconvert_exporter": "python",
   "pygments_lexer": "ipython2",
   "version": "2.7.6"
  }
 },
 "nbformat": 4,
 "nbformat_minor": 2
}
