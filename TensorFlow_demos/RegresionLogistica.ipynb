{
 "cells": [
  {
   "cell_type": "code",
   "execution_count": 1,
   "metadata": {
    "collapsed": false
   },
   "outputs": [
    {
     "name": "stderr",
     "output_type": "stream",
     "text": [
      "/Users/cornelius15/anaconda2/envs/deeplearning/lib/python2.7/site-packages/matplotlib/font_manager.py:273: UserWarning: Matplotlib is building the font cache using fc-list. This may take a moment.\n",
      "  warnings.warn('Matplotlib is building the font cache using fc-list. This may take a moment.')\n"
     ]
    }
   ],
   "source": [
    "import numpy as np\n",
    "import tensorflow as tf\n",
    "\n",
    "import matplotlib.pyplot as plt"
   ]
  },
  {
   "cell_type": "code",
   "execution_count": 2,
   "metadata": {
    "collapsed": true
   },
   "outputs": [],
   "source": [
    "'''\n",
    "Dataset de ejemplo para clasificacion binaria\n",
    "'''\n",
    "from sklearn.datasets import make_blobs\n",
    "\n",
    "dataset = make_blobs(n_samples = 100, n_features=2, centers=2, cluster_std=4.0)\n",
    "x = dataset[0]\n",
    "y = dataset[1]\n",
    "\n",
    "nx,m = x.T.shape\n",
    "\n",
    "colors = ['red' if label == 1 else 'blue' for label in y]"
   ]
  },
  {
   "cell_type": "code",
   "execution_count": 3,
   "metadata": {
    "collapsed": false
   },
   "outputs": [
    {
     "name": "stdout",
     "output_type": "stream",
     "text": [
      "['blue', 'red', 'blue', 'blue', 'red', 'red', 'blue', 'red', 'blue', 'blue', 'blue', 'red', 'red', 'blue', 'red', 'red', 'red', 'blue', 'blue', 'red', 'red', 'blue', 'blue', 'red', 'red', 'red', 'blue', 'blue', 'blue', 'blue', 'blue', 'blue', 'red', 'blue', 'blue', 'red', 'blue', 'red', 'red', 'blue', 'red', 'blue', 'red', 'red', 'blue', 'red', 'red', 'red', 'red', 'red', 'red', 'red', 'red', 'blue', 'blue', 'blue', 'blue', 'red', 'blue', 'red', 'red', 'red', 'red', 'red', 'red', 'blue', 'blue', 'blue', 'red', 'blue', 'red', 'blue', 'red', 'blue', 'blue', 'blue', 'blue', 'red', 'red', 'red', 'red', 'blue', 'red', 'red', 'blue', 'blue', 'blue', 'blue', 'red', 'blue', 'red', 'blue', 'blue', 'blue', 'blue', 'blue', 'red', 'red', 'blue', 'red']\n"
     ]
    }
   ],
   "source": [
    "print colors"
   ]
  },
  {
   "cell_type": "code",
   "execution_count": 4,
   "metadata": {
    "collapsed": false
   },
   "outputs": [
    {
     "data": {
      "image/png": "[encoded data removed]",
      "text/plain": [
       "<matplotlib.figure.Figure at 0x112d0bf10>"
      ]
     },
     "metadata": {},
     "output_type": "display_data"
    }
   ],
   "source": [
    "plt.scatter(x[:,0], x[:,1], color=colors)\n",
    "plt.show()"
   ]
  },
  {
   "cell_type": "code",
   "execution_count": 5,
   "metadata": {
    "collapsed": true
   },
   "outputs": [],
   "source": [
    "def reset_graph(seed=42):\n",
    "    tf.reset_default_graph()\n",
    "    tf.set_random_seed(seed)\n",
    "    np.random.seed(seed)"
   ]
  },
  {
   "cell_type": "code",
   "execution_count": 6,
   "metadata": {
    "collapsed": true
   },
   "outputs": [],
   "source": [
    "reset_graph()\n",
    "\n",
    "#dataset en forma de tensores\n",
    "X = tf.constant(x.T, dtype=tf.float32, name=\"X\")\n",
    "Y = tf.constant(y, dtype=tf.float32, name=\"Y\")\n",
    "\n",
    "#parametros del regresor logistico: W y b\n",
    "W = tf.Variable(tf.zeros([1, nx]), name=\"W\", dtype=tf.float32)\n",
    "b = tf.Variable(tf.zeros([1,1]), name=\"b\", dtype=tf.float32)\n",
    "\n",
    "#parametros de entrenamiento\n",
    "learning_rate = 0.01\n",
    "n_epochs = 10000\n",
    "\n",
    "'''\n",
    "Grafo de computo\n",
    "'''\n",
    "#1. feed-forward...propagacion hacia adelante\n",
    "z = tf.matmul(W,X) + b\n",
    "a = 1.0 / (1.0 + tf.exp(-z))\n",
    "\n",
    "#2. calculo del error y el costo\n",
    "error = -(Y*tf.log(a)+(1-Y)*tf.log(1-a))\n",
    "J = tf.reduce_mean(error)\n",
    "#3. derivadas\n",
    "dz = a - Y\n",
    "dw = tf.matmul(dz, tf.transpose(X)) / m\n",
    "db = tf.reduce_sum(dz) / m\n",
    "\n",
    "#4. actualizacion de parametros W y b\n",
    "training_W = tf.assign(W, W - learning_rate*dw)\n",
    "training_b = tf.assign(b, b - learning_rate*db)"
   ]
  },
  {
   "cell_type": "code",
   "execution_count": 7,
   "metadata": {
    "collapsed": false
   },
   "outputs": [
    {
     "name": "stdout",
     "output_type": "stream",
     "text": [
      "[[ 0.  0.]]\n"
     ]
    }
   ],
   "source": [
    "init = tf.global_variables_initializer()\n",
    "\n",
    "with tf.Session() as sess:\n",
    "    sess.run(init)\n",
    "    print sess.run(W)"
   ]
  },
  {
   "cell_type": "code",
   "execution_count": 8,
   "metadata": {
    "collapsed": false
   },
   "outputs": [
    {
     "name": "stdout",
     "output_type": "stream",
     "text": [
      "('Epoca ', 0, 'Error: ', 0.69314742)\n",
      "('Epoca ', 1000, 'Error: ', 0.10735015)\n",
      "('Epoca ', 2000, 'Error: ', 0.10627518)\n",
      "('Epoca ', 3000, 'Error: ', 0.10546947)\n",
      "('Epoca ', 4000, 'Error: ', 0.10476312)\n",
      "('Epoca ', 5000, 'Error: ', 0.10414119)\n",
      "('Epoca ', 6000, 'Error: ', 0.10359365)\n",
      "('Epoca ', 7000, 'Error: ', 0.10311158)\n",
      "('Epoca ', 8000, 'Error: ', 0.10268705)\n",
      "('Epoca ', 9000, 'Error: ', 0.10231305)\n",
      "[[-0.63614494 -0.5956499 ]]\n",
      "[[-0.79999059]]\n"
     ]
    }
   ],
   "source": [
    "init = tf.global_variables_initializer()\n",
    "\n",
    "with tf.Session() as sess:\n",
    "    sess.run(init)\n",
    "    \n",
    "    for epoch in range(n_epochs):\n",
    "        if(epoch % 1000 == 0):\n",
    "            print (\"Epoca \", epoch, \"Error: \", J.eval())\n",
    "        \n",
    "        sess.run([training_W, training_b])\n",
    "        \n",
    "        best_W = W.eval()\n",
    "        best_b = b.eval()\n",
    "\n",
    "    print best_W\n",
    "    print best_b"
   ]
  },
  {
   "cell_type": "code",
   "execution_count": 123,
   "metadata": {
    "collapsed": false
   },
   "outputs": [
    {
     "name": "stdout",
     "output_type": "stream",
     "text": [
      "[[-0.28270099 -0.63923037]]\n",
      "[[-2.49126291]]\n"
     ]
    }
   ],
   "source": [
    "print best_W\n",
    "print best_b"
   ]
  },
  {
   "cell_type": "code",
   "execution_count": 124,
   "metadata": {
    "collapsed": true
   },
   "outputs": [],
   "source": [
    "'''\n",
    "Evaluemos el resultado del entrenamiento\n",
    "'''\n",
    "def sigmoid(z):\n",
    "    return 1 / 1 + np.exp(-z)\n",
    "\n",
    "def hardlim(z):\n",
    "    if(z > 0):\n",
    "        return 1\n",
    "    else:\n",
    "        return 0\n",
    "\n",
    "def feed_forward(x,W,b):\n",
    "    return np.dot(W,x)+b"
   ]
  },
  {
   "cell_type": "code",
   "execution_count": 125,
   "metadata": {
    "collapsed": false
   },
   "outputs": [
    {
     "name": "stdout",
     "output_type": "stream",
     "text": [
      "('Predicted label: ', 1, 'Real label: ', 1)\n"
     ]
    }
   ],
   "source": [
    "index = 7\n",
    "pred = feed_forward(x[index], best_W, best_b)\n",
    "label = hardlim(pred)\n",
    "\n",
    "print(\"Predicted label: \", label, \"Real label: \", y[index])"
   ]
  },
  {
   "cell_type": "markdown",
   "metadata": {},
   "source": [
    "<hr>\n",
    "## Regresion logistica utilizando funciones de TF"
   ]
  },
  {
   "cell_type": "code",
   "execution_count": 126,
   "metadata": {
    "collapsed": true
   },
   "outputs": [],
   "source": [
    "reset_graph()\n",
    "\n",
    "#dataset en forma de tensores\n",
    "X = tf.constant(x.T, dtype=tf.float32, name=\"X\")\n",
    "Y = tf.constant(y, dtype=tf.float32, name=\"Y\")\n",
    "\n",
    "#parametros del regresor logistico: W y b\n",
    "W = tf.Variable(tf.zeros([1, nx]), name=\"W\")\n",
    "b = tf.Variable(tf.zeros([1,1]), name=\"b\")\n",
    "\n",
    "#parametros de entrenamiento\n",
    "learning_rate = 0.01\n",
    "n_epochs = 10000\n",
    "\n",
    "'''\n",
    "Grafo de computo\n",
    "'''\n",
    "#1. feed-forward...propagacion hacia adelante\n",
    "a = tf.nn.sigmoid(tf.matmul(W, X)+b)\n",
    "\n",
    "#2. calculo del costo\n",
    "error = -(Y*tf.log(a)+(1-Y)*tf.log(1-a))\n",
    "J = tf.reduce_mean(error)\n",
    "\n",
    "#3. optimizador\n",
    "optimizer = tf.train.GradientDescentOptimizer(learning_rate=learning_rate).minimize(J)"
   ]
  },
  {
   "cell_type": "code",
   "execution_count": 127,
   "metadata": {
    "collapsed": false
   },
   "outputs": [
    {
     "name": "stdout",
     "output_type": "stream",
     "text": [
      "('Epoca ', 0, 'Error: ', 0.69314712)\n",
      "('Epoca ', 1000, 'Error: ', 0.20850205)\n",
      "('Epoca ', 2000, 'Error: ', 0.18949197)\n",
      "('Epoca ', 3000, 'Error: ', 0.17831247)\n",
      "('Epoca ', 4000, 'Error: ', 0.17134641)\n",
      "('Epoca ', 5000, 'Error: ', 0.1667807)\n",
      "('Epoca ', 6000, 'Error: ', 0.1636624)\n",
      "('Epoca ', 7000, 'Error: ', 0.16146185)\n",
      "('Epoca ', 8000, 'Error: ', 0.15986694)\n",
      "('Epoca ', 9000, 'Error: ', 0.15868589)\n",
      "[[-0.28270096 -0.63923037]] [[-2.49126267]]\n"
     ]
    }
   ],
   "source": [
    "init = tf.global_variables_initializer()\n",
    "\n",
    "with tf.Session() as sess:\n",
    "    sess.run(init)\n",
    "    \n",
    "    for epoch in range(n_epochs):\n",
    "        if(epoch % 1000 == 0):\n",
    "            print (\"Epoca \", epoch, \"Error: \", J.eval())\n",
    "            \n",
    "        sess.run(optimizer)\n",
    "        \n",
    "        best_W = W.eval()\n",
    "        best_b = b.eval()\n",
    "    \n",
    "    print best_W, best_b"
   ]
  },
  {
   "cell_type": "code",
   "execution_count": null,
   "metadata": {
    "collapsed": true
   },
   "outputs": [],
   "source": []
  }
 ],
 "metadata": {
  "anaconda-cloud": {},
  "kernelspec": {
   "display_name": "Python [deeplearning]",
   "language": "python",
   "name": "Python [deeplearning]"
  },
  "language_info": {
   "codemirror_mode": {
    "name": "ipython",
    "version": 2
   },
   "file_extension": ".py",
   "mimetype": "text/x-python",
   "name": "python",
   "nbconvert_exporter": "python",
   "pygments_lexer": "ipython2",
   "version": "2.7.12"
  }
 },
 "nbformat": 4,
 "nbformat_minor": 2
}
