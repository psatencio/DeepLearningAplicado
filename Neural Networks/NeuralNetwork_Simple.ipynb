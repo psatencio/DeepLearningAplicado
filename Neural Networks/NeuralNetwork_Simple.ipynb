{
 "cells": [
  {
   "cell_type": "markdown",
   "metadata": {},
   "source": [
    "<img src=\"res/itm_logo.jpg\" width=\"300px\">\n",
    "\n",
    "## Inteligencia Artificial - IAI84\n",
    "### Instituto Tecnológico Metropolitano\n",
    "#### Pedro Atencio Ortiz - 2018\n",
    "\n",
    "\n",
    "En este notebook se implementa una clasificacion binaria no-lineal utilizando una pequenia red neuronal de regresores logisticos en cadena:\n",
    "1. El problema XOR\n",
    "2. Regresores logísticos en cadena"
   ]
  },
  {
   "cell_type": "markdown",
   "metadata": {},
   "source": [
    "<hr>\n",
    "# 1. El problema XOR\n",
    "\n",
    "<img src='res/shallow_nn/xor_problem.png'>"
   ]
  },
  {
   "cell_type": "markdown",
   "metadata": {},
   "source": [
    " # 1. Regresor Logístico"
   ]
  },
  {
   "cell_type": "code",
   "execution_count": 1,
   "metadata": {
    "collapsed": true
   },
   "outputs": [],
   "source": [
    "import numpy as np"
   ]
  },
  {
   "cell_type": "code",
   "execution_count": 2,
   "metadata": {
    "collapsed": true
   },
   "outputs": [],
   "source": [
    "def linear_activation(W, b, X):\n",
    "    z = np.dot(W,X) + b\n",
    "    \n",
    "    return z"
   ]
  },
  {
   "cell_type": "code",
   "execution_count": 3,
   "metadata": {
    "collapsed": true
   },
   "outputs": [],
   "source": [
    "def sigmoid(z):\n",
    "    '''\n",
    "    Returns sigmoid activation for array z\n",
    "    '''\n",
    "    a = 1. / (1. + np.exp(-z)) \n",
    "    \n",
    "    return a "
   ]
  },
  {
   "cell_type": "code",
   "execution_count": 4,
   "metadata": {
    "collapsed": true
   },
   "outputs": [],
   "source": [
    "def d_sigmoid(z):\n",
    "    return sigmoid(z) * (1. - sigmoid(z))"
   ]
  },
  {
   "cell_type": "code",
   "execution_count": 5,
   "metadata": {
    "collapsed": true
   },
   "outputs": [],
   "source": [
    "def loss(y, a):\n",
    "    return -(y * np.log(a) + (1-y) * np.log(1-a))"
   ]
  },
  {
   "cell_type": "code",
   "execution_count": 6,
   "metadata": {
    "collapsed": true
   },
   "outputs": [],
   "source": [
    "def cost(logloss):\n",
    "    return np.mean(logloss)"
   ]
  },
  {
   "cell_type": "code",
   "execution_count": 7,
   "metadata": {
    "collapsed": true
   },
   "outputs": [],
   "source": [
    "def predict_multilayer(parameters,X):\n",
    "    W1 = parameters[\"W1\"]\n",
    "    b1 = parameters[\"b1\"]\n",
    "    W2 = parameters[\"W2\"]\n",
    "    b2 = parameters[\"b2\"]\n",
    "    \n",
    "    Z1 = linear_activation(W1,b1,X)\n",
    "    A1 = sigmoid(Z1)\n",
    "    \n",
    "    Z2 = linear_activation(W2,b2,A1)\n",
    "    A2 = sigmoid(Z2)\n",
    "\n",
    "    return np.round(A2)"
   ]
  },
  {
   "cell_type": "markdown",
   "metadata": {},
   "source": [
    "<hr>\n",
    "# Trabajemos\n",
    "3. Realicemos descenso del gradiente sobre la red neural completa."
   ]
  },
  {
   "cell_type": "markdown",
   "metadata": {},
   "source": [
    "### - Dataset XOR"
   ]
  },
  {
   "cell_type": "code",
   "execution_count": 8,
   "metadata": {
    "collapsed": false
   },
   "outputs": [
    {
     "name": "stderr",
     "output_type": "stream",
     "text": [
      "/Users/cornelius15/anaconda2/envs/deeplearning/lib/python2.7/site-packages/matplotlib/font_manager.py:273: UserWarning: Matplotlib is building the font cache using fc-list. This may take a moment.\n",
      "  warnings.warn('Matplotlib is building the font cache using fc-list. This may take a moment.')\n"
     ]
    },
    {
     "data": {
      "text/plain": [
       "<matplotlib.figure.Figure at 0x107b56690>"
      ]
     },
     "metadata": {},
     "output_type": "display_data"
    }
   ],
   "source": [
    "import numpy as np\n",
    "import matplotlib.pyplot as plt\n",
    "\n",
    "X = np.array([[0,0],[0,1],[1,0],[1,1]])\n",
    "Y = np.array([[0, 1, 1, 0]])\n",
    "\n",
    "color= ['blue' if y == 1 else 'red' for y in np.squeeze(Y)]\n",
    "\n",
    "plt.figure(figsize=(7,5))\n",
    "plt.scatter(X[:,0], X[:,1], color=color)\n",
    "\n",
    "plt.show()\n",
    "\n",
    "X = X.T"
   ]
  },
  {
   "cell_type": "markdown",
   "metadata": {},
   "source": [
    "### - Inicializacion de parametros de la red."
   ]
  },
  {
   "cell_type": "code",
   "execution_count": 17,
   "metadata": {
    "collapsed": true
   },
   "outputs": [],
   "source": [
    "def initialize_parameters(h_layers, k_factor):\n",
    "    neurons_hidden_layer = 3\n",
    "\n",
    "    k_factor = 5\n",
    "\n",
    "    W1 = np.random.randn(neurons_hidden_layer,2) * k_factor\n",
    "    b1 = np.zeros([neurons_hidden_layer,1])\n",
    "\n",
    "    W2 = np.random.randn(1,neurons_hidden_layer) * k_factor\n",
    "    b2 = np.zeros([1,1])\n",
    "    \n",
    "    parameters = {\"W1\":W1, \"b1\":b1, \"W2\":W2, \"b2\":b2}\n",
    "    \n",
    "    return parameters"
   ]
  },
  {
   "cell_type": "markdown",
   "metadata": {},
   "source": [
    "<hr>\n",
    "### - Apliquemos descenso del gradiente a cada regresor logístico por separado"
   ]
  },
  {
   "cell_type": "code",
   "execution_count": 18,
   "metadata": {
    "collapsed": false
   },
   "outputs": [
    {
     "name": "stdout",
     "output_type": "stream",
     "text": [
      "('parametros iniciales: ', {'b2': array([[ 0.]]), 'b1': array([[ 0.],\n",
      "       [ 0.],\n",
      "       [ 0.]]), 'W1': array([[-9.99279369,  8.26682597],\n",
      "       [ 4.14380564, -1.53232597],\n",
      "       [ 3.54928701, -3.34157449]]), 'W2': array([[-0.39959731, -2.52671314, -6.22918818]])})\n",
      "('costo -- iteracion ', 0, ': ', 2.4785248708037551)\n",
      "('costo -- iteracion ', 100, ': ', 0.47972465196327629)\n",
      "('costo -- iteracion ', 200, ': ', 0.27824673168512165)\n",
      "('costo -- iteracion ', 300, ': ', 0.18520629936105695)\n",
      "('costo -- iteracion ', 400, ': ', 0.13345447235485292)\n",
      "('costo -- iteracion ', 500, ': ', 0.10235369003195052)\n",
      "('costo -- iteracion ', 600, ': ', 0.082245075518444399)\n",
      "('costo -- iteracion ', 700, ': ', 0.068395487753462644)\n",
      "('costo -- iteracion ', 800, ': ', 0.058362547863044817)\n",
      "('costo -- iteracion ', 900, ': ', 0.050798585778644226)\n",
      "('costo -- iteracion ', 1000, ': ', 0.044911592396734756)\n",
      "('costo -- iteracion ', 1100, ': ', 0.040210138095154016)\n",
      "('costo -- iteracion ', 1200, ': ', 0.036375012913530229)\n",
      "('costo -- iteracion ', 1300, ': ', 0.033190719152191669)\n",
      "('costo -- iteracion ', 1400, ': ', 0.0305069395064115)\n",
      "('costo -- iteracion ', 1500, ': ', 0.02821585011933123)\n",
      "('costo -- iteracion ', 1600, ': ', 0.026238220836460002)\n",
      "('costo -- iteracion ', 1700, ': ', 0.024514598801153087)\n",
      "('costo -- iteracion ', 1800, ': ', 0.022999543970705187)\n",
      "('costo -- iteracion ', 1900, ': ', 0.02165775793188817)\n",
      "('costo -- iteracion ', 2000, ': ', 0.020461421826166233)\n",
      "('costo -- iteracion ', 2100, ': ', 0.019388326652197523)\n",
      "('costo -- iteracion ', 2200, ': ', 0.018420534991154907)\n",
      "('costo -- iteracion ', 2300, ': ', 0.01754340663066687)\n",
      "('costo -- iteracion ', 2400, ': ', 0.016744878100360284)\n",
      "('costo -- iteracion ', 2500, ': ', 0.016014922423207848)\n",
      "('costo -- iteracion ', 2600, ': ', 0.015345138780573772)\n",
      "('costo -- iteracion ', 2700, ': ', 0.014728437170796239)\n",
      "('costo -- iteracion ', 2800, ': ', 0.01415879344052764)\n",
      "('costo -- iteracion ', 2900, ': ', 0.013631057080295578)\n",
      "('costo -- iteracion ', 3000, ': ', 0.01314079902392962)\n",
      "('costo -- iteracion ', 3100, ': ', 0.01268419009146882)\n",
      "('costo -- iteracion ', 3200, ': ', 0.012257903131122837)\n",
      "('costo -- iteracion ', 3300, ': ', 0.011859033653749412)\n",
      "('costo -- iteracion ', 3400, ': ', 0.011485035017786712)\n",
      "('costo -- iteracion ', 3500, ': ', 0.011133665152444024)\n",
      "('costo -- iteracion ', 3600, ': ', 0.010802942497614224)\n",
      "('costo -- iteracion ', 3700, ': ', 0.010491109356776877)\n",
      "('costo -- iteracion ', 3800, ': ', 0.010196601250794517)\n",
      "('costo -- iteracion ', 3900, ': ', 0.0099180211591786381)\n",
      "('costo -- iteracion ', 4000, ': ', 0.0096541177649536996)\n",
      "('costo -- iteracion ', 4100, ': ', 0.0094037669969882463)\n",
      "('costo -- iteracion ', 4200, ': ', 0.0091659563022430651)\n",
      "('costo -- iteracion ', 4300, ': ', 0.008939771189149303)\n",
      "('costo -- iteracion ', 4400, ': ', 0.0087243836692334972)\n",
      "('costo -- iteracion ', 4500, ': ', 0.0085190422923502821)\n",
      "('costo -- iteracion ', 4600, ': ', 0.0083230635254171442)\n",
      "('costo -- iteracion ', 4700, ': ', 0.0081358242683491951)\n",
      "('costo -- iteracion ', 4800, ': ', 0.0079567553362617366)\n",
      "('costo -- iteracion ', 4900, ': ', 0.0077853357657114743)\n",
      "('parametros actualizados: ', {'b2': array([[ 9.75049014]]), 'b1': array([[ 3.61954479],\n",
      "       [ 3.61954479],\n",
      "       [ 3.61954479]]), 'W1': array([[ -8.48534873,  10.23349187],\n",
      "       [  4.0983607 ,   0.6205326 ],\n",
      "       [  7.1669541 ,  -7.01402401]]), 'W2': array([[-10.18706223,   5.6147504 , -10.51081334]])})\n",
      "('Predicciones del clasificador: ', array([[ 0.,  1.,  1.,  0.]]))\n"
     ]
    }
   ],
   "source": [
    "'''\n",
    "Metaparameters initialization\n",
    "'''\n",
    "num_epochs = 5000\n",
    "learning_rate = 0.09\n",
    "\n",
    "'''\n",
    "Parameters initialization\n",
    "'''\n",
    "parameters = initialize_parameters(3, 5)\n",
    "W1 = parameters[\"W1\"]\n",
    "b1 = parameters[\"b1\"]\n",
    "W2 = parameters[\"W2\"]\n",
    "b2 = parameters[\"b2\"]\n",
    "\n",
    "print (\"parametros iniciales: \", parameters)\n",
    "\n",
    "'''\n",
    "Gradient descent\n",
    "'''\n",
    "for i in range(num_epochs): \n",
    "    '''\n",
    "    Forward Propagation\n",
    "    '''\n",
    "    Z1 = linear_activation(W1, b1, X)\n",
    "    A1 = sigmoid(Z1)\n",
    "    \n",
    "    Z2 = linear_activation(W2, b2, A1)\n",
    "    A2 = sigmoid(Z2)\n",
    "        \n",
    "    '''\n",
    "    Backward Propagation\n",
    "    '''\n",
    "    dZ2 = A2 - Y\n",
    "    dW2 = np.dot(dZ2, A1.T)\n",
    "    db2 = np.mean(np.sum(dZ2, axis=1, keepdims=True))\n",
    "    \n",
    "    dZ1 = np.multiply(np.dot(W2.T, dZ2), d_sigmoid(Z1))\n",
    "    dW1 = np.dot(dZ1, X.T)\n",
    "    db1 = np.mean(np.sum(dZ1, axis=1, keepdims=True))\n",
    "    \n",
    "    '''\n",
    "    Parameters Update\n",
    "    '''\n",
    "    W1 -= learning_rate * dW1\n",
    "    W2 -= learning_rate * dW2\n",
    "    b1 -= learning_rate * db1\n",
    "    b2 -= learning_rate * db2\n",
    "    \n",
    "    '''\n",
    "    Cost estimation\n",
    "    '''\n",
    "    J = cost(loss(Y,A2))\n",
    "    \n",
    "    \n",
    "    if(i%100 == 0):\n",
    "        print(\"costo -- iteracion \", i, \": \", J)\n",
    "        \n",
    "print(\"parametros actualizados: \", parameters)\n",
    "\n",
    "'''\n",
    "Testing\n",
    "'''\n",
    "print(\"Predicciones del clasificador: \", predict_multilayer(parameters,X))"
   ]
  },
  {
   "cell_type": "markdown",
   "metadata": {},
   "source": [
    "### - Visualizacion del resultado"
   ]
  },
  {
   "cell_type": "code",
   "execution_count": 19,
   "metadata": {
    "collapsed": true
   },
   "outputs": [],
   "source": [
    "import matplotlib.pyplot as plt\n",
    "\n",
    "def visualize_lr(parameters, X, Y):\n",
    "    X = X.T\n",
    "    \n",
    "    # Set min and max values and give it some padding\n",
    "    x_min, x_max = X[:, 0].min() - .5, X[:, 0].max() + .5\n",
    "    y_min, y_max = X[:, 1].min() - .5, X[:, 1].max() + .5\n",
    "    h = 0.01\n",
    "    # Generate a grid of points with distance h between them\n",
    "    xx, yy = np.meshgrid(np.arange(x_min, x_max, h), np.arange(y_min, y_max, h))\n",
    "    # Predict the function value for the whole gid\n",
    "    #Z = pred_func(W,b,np.c_[xx.ravel(), yy.ravel()])\n",
    "    Z = predict_multilayer(parameters, np.c_[xx.ravel(), yy.ravel()].T)\n",
    "    Z = Z.reshape(xx.shape)\n",
    "    # Plot the contour and training examples\n",
    "    plt.figure(figsize=(7,5))\n",
    "    plt.contourf(xx, yy, Z, cmap=plt.cm.Spectral)\n",
    "    \n",
    "    color= ['blue' if y == 1 else 'red' for y in np.squeeze(Y)]\n",
    "    plt.scatter(X[:,0], X[:,1], color=color)\n",
    "    \n",
    "    plt.show()"
   ]
  },
  {
   "cell_type": "code",
   "execution_count": 20,
   "metadata": {
    "collapsed": false,
    "scrolled": true
   },
   "outputs": [
    {
     "data": {
      "image/png": "[encoded data removed]",
      "text/plain": [
       "<matplotlib.figure.Figure at 0x109f24610>"
      ]
     },
     "metadata": {},
     "output_type": "display_data"
    }
   ],
   "source": [
    "visualize_lr(parameters, X, Y)"
   ]
  },
  {
   "cell_type": "code",
   "execution_count": null,
   "metadata": {
    "collapsed": true
   },
   "outputs": [],
   "source": []
  },
  {
   "cell_type": "code",
   "execution_count": null,
   "metadata": {
    "collapsed": true
   },
   "outputs": [],
   "source": []
  }
 ],
 "metadata": {
  "anaconda-cloud": {},
  "kernelspec": {
   "display_name": "Python [deeplearning]",
   "language": "python",
   "name": "Python [deeplearning]"
  },
  "language_info": {
   "codemirror_mode": {
    "name": "ipython",
    "version": 2
   },
   "file_extension": ".py",
   "mimetype": "text/x-python",
   "name": "python",
   "nbconvert_exporter": "python",
   "pygments_lexer": "ipython2",
   "version": "2.7.12"
  }
 },
 "nbformat": 4,
 "nbformat_minor": 2
}
