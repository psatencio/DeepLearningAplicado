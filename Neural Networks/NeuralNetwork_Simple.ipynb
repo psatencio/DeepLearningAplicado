{
 "cells": [
  {
   "cell_type": "markdown",
   "metadata": {},
   "source": [
    "<img src=\"res/itm_logo.jpg\" width=\"300px\">\n",
    "\n",
    "## Inteligencia Artificial - IAI84\n",
    "### Instituto Tecnológico Metropolitano\n",
    "#### Pedro Atencio Ortiz - 2018\n",
    "\n",
    "\n",
    "En este notebook se implementa una clasificacion binaria no-lineal utilizando una pequenia red neuronal de regresores logisticos en cadena:\n",
    "1. El problema XOR\n",
    "2. Regresores logísticos en cadena"
   ]
  },
  {
   "cell_type": "markdown",
   "metadata": {},
   "source": [
    "<hr>\n",
    "# 1. El problema XOR\n",
    "\n",
    "<img src='res/shallow_nn/xor_problem.png'>"
   ]
  },
  {
   "cell_type": "markdown",
   "metadata": {},
   "source": [
    " # 1. Regresor Logístico"
   ]
  },
  {
   "cell_type": "code",
   "execution_count": 1,
   "metadata": {
    "collapsed": true
   },
   "outputs": [],
   "source": [
    "import numpy as np"
   ]
  },
  {
   "cell_type": "code",
   "execution_count": 2,
   "metadata": {
    "collapsed": true
   },
   "outputs": [],
   "source": [
    "def linear_activation(W, b, X):\n",
    "    z = np.dot(W,X) + b\n",
    "    \n",
    "    return z"
   ]
  },
  {
   "cell_type": "code",
   "execution_count": 3,
   "metadata": {
    "collapsed": true
   },
   "outputs": [],
   "source": [
    "def sigmoid(z):\n",
    "    '''\n",
    "    Returns sigmoid activation for array z\n",
    "    '''\n",
    "    a = 1. / (1. + np.exp(-z)) \n",
    "    \n",
    "    return a "
   ]
  },
  {
   "cell_type": "code",
   "execution_count": 4,
   "metadata": {
    "collapsed": true
   },
   "outputs": [],
   "source": [
    "def d_sigmoid(z):\n",
    "    return sigmoid(z) * (1. - sigmoid(z))"
   ]
  },
  {
   "cell_type": "code",
   "execution_count": 5,
   "metadata": {
    "collapsed": true
   },
   "outputs": [],
   "source": [
    "def loss(y, a):\n",
    "    return -(y * np.log(a) + (1-y) * np.log(1-a))"
   ]
  },
  {
   "cell_type": "code",
   "execution_count": 6,
   "metadata": {
    "collapsed": true
   },
   "outputs": [],
   "source": [
    "def cost(logloss):\n",
    "    return np.mean(logloss)"
   ]
  },
  {
   "cell_type": "code",
   "execution_count": 7,
   "metadata": {
    "collapsed": true
   },
   "outputs": [],
   "source": [
    "def predict_multilayer(parameters,X):\n",
    "    W1 = parameters[\"W1\"]\n",
    "    b1 = parameters[\"b1\"]\n",
    "    W2 = parameters[\"W2\"]\n",
    "    b2 = parameters[\"b2\"]\n",
    "    \n",
    "    Z1 = linear_activation(W1,b1,X)\n",
    "    A1 = sigmoid(Z1)\n",
    "    \n",
    "    Z2 = linear_activation(W2,b2,A1)\n",
    "    A2 = sigmoid(Z2)\n",
    "\n",
    "    return np.round(A2)"
   ]
  },
  {
   "cell_type": "markdown",
   "metadata": {},
   "source": [
    "<hr>\n",
    "# Trabajemos\n",
    "3. Realicemos descenso del gradiente sobre la red neural completa."
   ]
  },
  {
   "cell_type": "markdown",
   "metadata": {},
   "source": [
    "### - Dataset XOR"
   ]
  },
  {
   "cell_type": "code",
   "execution_count": 9,
   "metadata": {
    "collapsed": false
   },
   "outputs": [
    {
     "data": {
      "image/png": "[encoded data removed]",
      "text/plain": [
       "<matplotlib.figure.Figure at 0x108a18a90>"
      ]
     },
     "metadata": {},
     "output_type": "display_data"
    }
   ],
   "source": [
    "import numpy as np\n",
    "import matplotlib.pyplot as plt\n",
    "\n",
    "X = np.array([[0,0],[0,1],[1,0],[1,1]])\n",
    "Y = np.array([[0, 1, 1, 0]])\n",
    "\n",
    "color= ['blue' if y == 1 else 'red' for y in np.squeeze(Y)]\n",
    "\n",
    "plt.figure(figsize=(7,5))\n",
    "plt.scatter(X[:,0], X[:,1], color=color)\n",
    "\n",
    "plt.show()\n",
    "\n",
    "X = X.T"
   ]
  },
  {
   "cell_type": "markdown",
   "metadata": {},
   "source": [
    "### - Inicializacion de parametros de la red."
   ]
  },
  {
   "cell_type": "code",
   "execution_count": 10,
   "metadata": {
    "collapsed": true
   },
   "outputs": [],
   "source": [
    "def initialize_parameters(h_layers, k_factor):\n",
    "    neurons_hidden_layer = 3\n",
    "\n",
    "    k_factor = 5\n",
    "\n",
    "    W1 = np.random.randn(neurons_hidden_layer,2) * k_factor\n",
    "    b1 = np.zeros([neurons_hidden_layer,1])\n",
    "\n",
    "    W2 = np.random.randn(1,neurons_hidden_layer) * k_factor\n",
    "    b2 = np.zeros([1,1])\n",
    "    \n",
    "    parameters = {\"W1\":W1, \"b1\":b1, \"W2\":W2, \"b2\":b2}\n",
    "    \n",
    "    return parameters"
   ]
  },
  {
   "cell_type": "markdown",
   "metadata": {},
   "source": [
    "<hr>\n",
    "### - Apliquemos descenso del gradiente a cada regresor logístico por separado"
   ]
  },
  {
   "cell_type": "code",
   "execution_count": 11,
   "metadata": {
    "collapsed": false
   },
   "outputs": [
    {
     "name": "stdout",
     "output_type": "stream",
     "text": [
      "('parametros iniciales: ', {'b2': array([[ 0.]]), 'b1': array([[ 0.],\n",
      "       [ 0.],\n",
      "       [ 0.]]), 'W1': array([[-2.82404251,  2.87457928],\n",
      "       [-9.16818221,  2.40106925],\n",
      "       [-1.339016  ,  1.71084003]]), 'W2': array([[-3.04884719,  0.64580422,  0.56607156]])})\n",
      "('costo -- iteracion ', 0, ': ', 0.81959140228187244)\n",
      "('costo -- iteracion ', 100, ': ', 0.55622409905767745)\n",
      "('costo -- iteracion ', 200, ': ', 0.51802945664248212)\n",
      "('costo -- iteracion ', 300, ': ', 0.47498033351114033)\n",
      "('costo -- iteracion ', 400, ': ', 0.43925719124888812)\n",
      "('costo -- iteracion ', 500, ': ', 0.41421422609419944)\n",
      "('costo -- iteracion ', 600, ': ', 0.39526042956606267)\n",
      "('costo -- iteracion ', 700, ': ', 0.3781894849004574)\n",
      "('costo -- iteracion ', 800, ': ', 0.35835122568455874)\n",
      "('costo -- iteracion ', 900, ': ', 0.32673173126841049)\n",
      "('costo -- iteracion ', 1000, ': ', 0.26542224681138404)\n",
      "('costo -- iteracion ', 1100, ': ', 0.18237597324061786)\n",
      "('costo -- iteracion ', 1200, ': ', 0.12495407823098978)\n",
      "('costo -- iteracion ', 1300, ': ', 0.092992496125372887)\n",
      "('costo -- iteracion ', 1400, ': ', 0.073964289852967713)\n",
      "('costo -- iteracion ', 1500, ': ', 0.06150804222868568)\n",
      "('costo -- iteracion ', 1600, ': ', 0.052722951471344544)\n",
      "('costo -- iteracion ', 1700, ': ', 0.046179812241556609)\n",
      "('costo -- iteracion ', 1800, ': ', 0.041106243723222288)\n",
      "('costo -- iteracion ', 1900, ': ', 0.037050167754495794)\n",
      "('costo -- iteracion ', 2000, ': ', 0.03372929879806507)\n",
      "('costo -- iteracion ', 2100, ': ', 0.030957964034611537)\n",
      "('costo -- iteracion ', 2200, ': ', 0.028608784434167596)\n",
      "('costo -- iteracion ', 2300, ': ', 0.026591302458830846)\n",
      "('costo -- iteracion ', 2400, ': ', 0.024839409520039116)\n",
      "('costo -- iteracion ', 2500, ': ', 0.023303609342579988)\n",
      "('costo -- iteracion ', 2600, ': ', 0.021946071265529606)\n",
      "('costo -- iteracion ', 2700, ': ', 0.020737361834051896)\n",
      "('costo -- iteracion ', 2800, ': ', 0.019654223141087564)\n",
      "('costo -- iteracion ', 2900, ': ', 0.018678024900463365)\n",
      "('costo -- iteracion ', 3000, ': ', 0.017793662286306411)\n",
      "('costo -- iteracion ', 3100, ': ', 0.016988755970134935)\n",
      "('costo -- iteracion ', 3200, ': ', 0.01625306149742136)\n",
      "('costo -- iteracion ', 3300, ': ', 0.015578026501222818)\n",
      "('costo -- iteracion ', 3400, ': ', 0.014956454142455276)\n",
      "('costo -- iteracion ', 3500, ': ', 0.014382244080167186)\n",
      "('costo -- iteracion ', 3600, ': ', 0.013850190835190521)\n",
      "('costo -- iteracion ', 3700, ': ', 0.013355825192842808)\n",
      "('costo -- iteracion ', 3800, ': ', 0.012895288264094959)\n",
      "('costo -- iteracion ', 3900, ': ', 0.012465230598776078)\n",
      "('costo -- iteracion ', 4000, ': ', 0.012062730709245292)\n",
      "('costo -- iteracion ', 4100, ': ', 0.011685228773245857)\n",
      "('costo -- iteracion ', 4200, ': ', 0.011330472309395644)\n",
      "('costo -- iteracion ', 4300, ': ', 0.010996471371884003)\n",
      "('costo -- iteracion ', 4400, ': ', 0.010681461370320666)\n",
      "('costo -- iteracion ', 4500, ': ', 0.010383872040265562)\n",
      "('costo -- iteracion ', 4600, ': ', 0.010102301407608176)\n",
      "('costo -- iteracion ', 4700, ': ', 0.0098354938325025277)\n",
      "('costo -- iteracion ', 4800, ': ', 0.0095823214052687695)\n",
      "('costo -- iteracion ', 4900, ': ', 0.0093417681114807485)\n",
      "('parametros actualizados: ', {'b2': array([[-5.99851528]]), 'b1': array([[-2.14594444],\n",
      "       [-2.14594444],\n",
      "       [-2.14594444]]), 'W1': array([[-2.36480356,  8.65368015],\n",
      "       [-9.5270606 ,  5.69204636],\n",
      "       [ 6.03262796,  5.8265259 ]]), 'W2': array([[ -9.53801716,  10.24522032,  10.8637757 ]])})\n",
      "('Predicciones del clasificador: ', array([[ 0.,  1.,  1.,  0.]]))\n"
     ]
    }
   ],
   "source": [
    "'''\n",
    "Metaparameters initialization\n",
    "'''\n",
    "num_epochs = 5000\n",
    "learning_rate = 0.09\n",
    "\n",
    "'''\n",
    "Parameters initialization\n",
    "'''\n",
    "parameters = initialize_parameters(3, 5)\n",
    "W1 = parameters[\"W1\"]\n",
    "b1 = parameters[\"b1\"]\n",
    "W2 = parameters[\"W2\"]\n",
    "b2 = parameters[\"b2\"]\n",
    "\n",
    "print (\"parametros iniciales: \", parameters)\n",
    "\n",
    "'''\n",
    "Gradient descent\n",
    "'''\n",
    "for i in range(num_epochs): \n",
    "    '''\n",
    "    Forward Propagation\n",
    "    '''\n",
    "    Z1 = linear_activation(W1, b1, X)\n",
    "    A1 = sigmoid(Z1)\n",
    "    \n",
    "    Z2 = linear_activation(W2, b2, A1)\n",
    "    A2 = sigmoid(Z2)\n",
    "        \n",
    "    '''\n",
    "    Backward Propagation\n",
    "    '''\n",
    "    dZ2 = A2 - Y\n",
    "    dW2 = np.dot(dZ2, A1.T)\n",
    "    db2 = np.mean(np.sum(dZ2, axis=1, keepdims=True))\n",
    "    \n",
    "    dZ1 = np.multiply(np.dot(W2.T, dZ2), d_sigmoid(Z1))\n",
    "    dW1 = np.dot(dZ1, X.T)\n",
    "    db1 = np.mean(np.sum(dZ1, axis=1, keepdims=True))\n",
    "    \n",
    "    '''\n",
    "    Parameters Update\n",
    "    '''\n",
    "    W1 -= learning_rate * dW1\n",
    "    W2 -= learning_rate * dW2\n",
    "    b1 -= learning_rate * db1\n",
    "    b2 -= learning_rate * db2\n",
    "    \n",
    "    '''\n",
    "    Cost estimation\n",
    "    '''\n",
    "    J = cost(loss(Y,A2))\n",
    "    \n",
    "    \n",
    "    if(i%100 == 0):\n",
    "        print(\"costo -- iteracion \", i, \": \", J)\n",
    "        \n",
    "print(\"parametros actualizados: \", parameters)\n",
    "\n",
    "'''\n",
    "Testing\n",
    "'''\n",
    "print(\"Predicciones del clasificador: \", predict_multilayer(parameters,X))"
   ]
  },
  {
   "cell_type": "markdown",
   "metadata": {},
   "source": [
    "### - Visualizacion del resultado"
   ]
  },
  {
   "cell_type": "code",
   "execution_count": 12,
   "metadata": {
    "collapsed": true
   },
   "outputs": [],
   "source": [
    "import matplotlib.pyplot as plt\n",
    "\n",
    "def visualize_lr(parameters, X, Y):\n",
    "    X = X.T\n",
    "    \n",
    "    # Set min and max values and give it some padding\n",
    "    x_min, x_max = X[:, 0].min() - .5, X[:, 0].max() + .5\n",
    "    y_min, y_max = X[:, 1].min() - .5, X[:, 1].max() + .5\n",
    "    h = 0.01\n",
    "    # Generate a grid of points with distance h between them\n",
    "    xx, yy = np.meshgrid(np.arange(x_min, x_max, h), np.arange(y_min, y_max, h))\n",
    "    # Predict the function value for the whole gid\n",
    "    #Z = pred_func(W,b,np.c_[xx.ravel(), yy.ravel()])\n",
    "    Z = predict_multilayer(parameters, np.c_[xx.ravel(), yy.ravel()].T)\n",
    "    Z = Z.reshape(xx.shape)\n",
    "    # Plot the contour and training examples\n",
    "    plt.figure(figsize=(7,5))\n",
    "    plt.contourf(xx, yy, Z, cmap=plt.cm.Spectral)\n",
    "    \n",
    "    color= ['blue' if y == 1 else 'red' for y in np.squeeze(Y)]\n",
    "    plt.scatter(X[:,0], X[:,1], color=color)\n",
    "    \n",
    "    plt.show()"
   ]
  },
  {
   "cell_type": "code",
   "execution_count": 13,
   "metadata": {
    "collapsed": false,
    "scrolled": true
   },
   "outputs": [
    {
     "name": "stderr",
     "output_type": "stream",
     "text": [
      "/Users/cornelius15/anaconda2/envs/deeplearning/lib/python2.7/site-packages/numpy/ma/core.py:6385: MaskedArrayFutureWarning: In the future the default for ma.minimum.reduce will be axis=0, not the current None, to match np.minimum.reduce. Explicitly pass 0 or None to silence this warning.\n",
      "  return self.reduce(a)\n",
      "/Users/cornelius15/anaconda2/envs/deeplearning/lib/python2.7/site-packages/numpy/ma/core.py:6385: MaskedArrayFutureWarning: In the future the default for ma.maximum.reduce will be axis=0, not the current None, to match np.maximum.reduce. Explicitly pass 0 or None to silence this warning.\n",
      "  return self.reduce(a)\n"
     ]
    },
    {
     "data": {
      "image/png": "[encoded data removed]",
      "text/plain": [
       "<matplotlib.figure.Figure at 0x108c5fa90>"
      ]
     },
     "metadata": {},
     "output_type": "display_data"
    }
   ],
   "source": [
    "visualize_lr(parameters, X, Y)"
   ]
  },
  {
   "cell_type": "code",
   "execution_count": null,
   "metadata": {
    "collapsed": true
   },
   "outputs": [],
   "source": []
  },
  {
   "cell_type": "code",
   "execution_count": null,
   "metadata": {
    "collapsed": true
   },
   "outputs": [],
   "source": []
  }
 ],
 "metadata": {
  "anaconda-cloud": {},
  "kernelspec": {
   "display_name": "Python [deeplearning]",
   "language": "python",
   "name": "Python [deeplearning]"
  },
  "language_info": {
   "codemirror_mode": {
    "name": "ipython",
    "version": 2
   },
   "file_extension": ".py",
   "mimetype": "text/x-python",
   "name": "python",
   "nbconvert_exporter": "python",
   "pygments_lexer": "ipython2",
   "version": "2.7.12"
  }
 },
 "nbformat": 4,
 "nbformat_minor": 2
}
