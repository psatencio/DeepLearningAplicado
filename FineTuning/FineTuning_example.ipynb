{
 "cells": [
  {
   "cell_type": "markdown",
   "metadata": {},
   "source": [
    "# Algo acerca de deep learning utilizando Python\n",
    "## Expositor: Pedro Atencio - psatencioo@unal.edu.co\n",
    "## Agenda del dia\n",
    "<ul>\n",
    "  <li>Por qué deberías utilizar Python</li>\n",
    "  <li>Qué es deep learning</li>\n",
    "  <li>Arquitecturas de redes neuronales artificiales</li>\n",
    "  <li>Tecnologías de deep learning en Python y comparación</li>\n",
    "  <li>VGG16 y finetuning</li>\n",
    "  <li>Como podemos hacer deep learning sin supercomputadores propios?</li>\n",
    "</ul>\n",
    "<hr>"
   ]
  },
  {
   "cell_type": "code",
   "execution_count": null,
   "metadata": {
    "collapsed": false
   },
   "outputs": [],
   "source": [
    "%matplotlib inline"
   ]
  },
  {
   "cell_type": "markdown",
   "metadata": {},
   "source": [
    "# Por qué deberías utilizar Python\n",
    "<ul>\n",
    "    <li>C++, Python y Java se constituyen (con un aumento significativo del primero en los ultimos años) como los lenguajes estandar para la divulgación de resultados cientificos y academicos en este tema.</li>\n",
    "    <br>\n",
    "    <li>Generalmente, los autores de articulos cientificos relacionados con el tema, publican en GitHub o en repositorios propios, implementaciones en Python.</li>\n",
    "    <br>\n",
    "    <li>Las librerías más importantes para desarrollo de soluciones con DeepLearning (Caffe, Keras, Theano, TensorFlow, cuDNN, etc.) presentan API's para Python.</li>\n",
    "    <br>\n",
    "    <li>Literalmente, es mas sencillo configurar y desarrollar aplicaciones con las API de Python que con las de Java o C++.</li>\n",
    "    <br>\n",
    "    <li>En mi experiencia, la capacidad de implementar y validar soluciones parciales (hipotesis), es crucial para el trabajo en este campo.</li>\n",
    "</ul>\n",
    "<hr>"
   ]
  },
  {
   "cell_type": "markdown",
   "metadata": {},
   "source": [
    "# Qué es deep learning?\n",
    "<img src='./res/deeplearning.png' width='800px'>\n",
    "## Qué no es!\n",
    "<font size=3>\n",
    "<br>\n",
    "<ul>\n",
    "    <li>NO es la inteligencia artificial en sí misma.</li>\n",
    "    <br>\n",
    "    <li>NO es el unico tópico o tema que se aborda desde la inteligencia artificial.</li>\n",
    "    <br>\n",
    "    <li>NO es la única forma de hacer machine learning.</li>\n",
    "    <br>\n",
    "    <li>NO es la mejor de las formas de hacer machine learning.</li>\n",
    "    <br>\n",
    "    <li>NO es big data o data mining.</li>\n",
    "    <br>\n",
    "    <li>NO es solo una tecnología.</li>\n",
    "    <br>\n",
    "    <li>NO es solo un concepto cientifico.</li>\n",
    "    <br>\n",
    "    <li>NO se usa solo para clasificar/reconocer.</li>\n",
    "</ul>\n",
    "</font>\n",
    "\n",
    "## Qué es!\n",
    "<font size=3>\n",
    "<br>\n",
    "<ul>\n",
    "    <li>Es una especie de la familia machine learning, al igual que Sapiens es una especie de la familia Homo.</li>\n",
    "    <br>\n",
    "    <li>Es una aproximacion al aprendizaje de maquina que comparte ciertas propiedades y principios con la forma en que opera a nivel neuronal el cerebro (humano o no humano).</li>\n",
    "    <br>\n",
    "    <li>Es una disciplina científica dentro de las ciencias de la computación, con un estado actual de desarrollo tecnológico alto.</li>\n",
    "    <br>\n",
    "    <li>Es una tecnología en constante interacción con la investigación. </li>\n",
    "    <br>\n",
    "    <li>Es una de las formas de realizar machine learning con mayor impacto en resultados en los ultimos 10 años.</li>\n",
    "    <br>\n",
    "    <li>Es una de las formas de realizar machine learning mas rapidas y de mayor uso para aplicaciones comerciales </li>\n",
    "    <br>\n",
    "    <li>Es una de las formas más costosas de realizar machine learning: <a href='http://stackoverflow.com/questions/28232235/how-to-calculate-the-number-of-parameters-of-convolutional-neural-networkscnns'>Cuantos parametros tiene la red VGG-16? </a></li>\n",
    "    <br>\n",
    "    <li>Es una de las disciplinas mas prometedoras para crear una inteligencia artificial similar al hombre.</li>\n",
    "</ul>\n",
    "</font>\n",
    "<br>\n",
    "<b>Recomendados</b>:\n",
    "<ul>\n",
    "<li>Michael Nielsen's Neural Networks and Deep Learning: http://neuralnetworksanddeeplearning.com</li>\n",
    "<br>\n",
    "<li>Yoshua Bengio's Deep Learning Book: http://www.deeplearningbook.org</li>\n",
    "<br>\n",
    "<li>Adrian Colyer's The morning paper: https://blog.acolyer.org/?s=deep+learning</li>\n",
    "\n",
    "<hr>"
   ]
  },
  {
   "cell_type": "markdown",
   "metadata": {},
   "source": [
    "# Arquitecturas de redes neuronales artificiales\n",
    "<br>\n",
    "<a href='http://www.asimovinstitute.org/neural-network-zoo/'> El zoologico de las redes neuronales </a>\n",
    "<br>\n",
    "<ul>\n",
    "    <li>Arquitectura: Organización, parámetros y algoritmos.</li>\n",
    "    <br>\n",
    "    <li>Qué se desea aprender?: reconocer, reconstruir, aprender, predecir, modelar comportamientos temporales, etc.</li>\n",
    "    <br>\n",
    "    <li>Cual es la naturaleza de la entrada y salida del sistema?</li>\n",
    "</ul>\n",
    "<hr>"
   ]
  },
  {
   "cell_type": "markdown",
   "metadata": {},
   "source": [
    "# Tecnologías de deep learning en Python y comparación\n",
    "\n",
    "<center>Figura. Algunas tecnologias</center>\n",
    "<img src='./res/technologies.png' width='300px'>\n",
    "<br>\n",
    "\n",
    "Las tecnologias asociadas a la construccion de una solucion que utilice deep learning abarcan:\n",
    "<ul>\n",
    "    <li><b>Lenguaje de programacion</b></li>\n",
    "    <li><b>Librerias</b>: Manejo de datos (hdf5, pickle, etc.), construccion de la arquitectura, visualizacion.</li>\n",
    "    <li><b>Datasets</b>: Se requiere la modificacion de metadatos en los datasets actuales? Existen <a href='https://www.kaggle.com'>datasets</a> publicos? Se puede <a href='http://labelme.csail.mit.edu'>construir</a> el dataset?</li>\n",
    "    <li><b>Arquitectura de computo</b>: Home PC + GPU, sistema distruibuido (hadoop y/o spark), cloud (google cloud, Azure, Amazon EC2, paperspace, etc.)</li>\n",
    "    <li><b>Pre-trained models</b>: <a href='https://github.com/fchollet/keras/issues/1568'>Alexnet, VGG-16, GoogLeNet</a></li>\n",
    "</ul>\n",
    "<br>\n",
    "<center>Figura. TensorBoard</center>\n",
    "<img src='./res/tensorboard.png' width='300px'>\n",
    "\n",
    "\n",
    "<hr>"
   ]
  },
  {
   "cell_type": "markdown",
   "metadata": {},
   "source": [
    "# VGG16 y finetuning\n",
    "Utilizaremos la red preentrenada VGG16 que viene en la libreria Keras y realizaremos un FineTuning para que resuelva el problema de reconocer imagenes de perros y gatos.\n",
    "<hr>"
   ]
  },
  {
   "cell_type": "code",
   "execution_count": null,
   "metadata": {
    "collapsed": false
   },
   "outputs": [],
   "source": [
    "%matplotlib inline\n",
    "\n",
    "from sys import platform\n",
    "\n",
    "import numpy as np\n",
    "import utils; reload(utils)\n",
    "from utils import plots\n",
    "import matplotlib.pyplot as plt\n",
    "from keras.applications import vgg16"
   ]
  },
  {
   "cell_type": "code",
   "execution_count": null,
   "metadata": {
    "collapsed": true
   },
   "outputs": [],
   "source": [
    "#======================================\n",
    "#Instantiate Vgg16\n",
    "#======================================\n",
    "'''\n",
    "Load VGG Model. If weights are not found locally, will be automatically downloaded\n",
    "'''\n",
    "if(platform == 'linux' or platform == 'linux2'):\n",
    "    vgg_model = vgg16.VGG16(include_top=True, weights='imagenet', input_tensor=None, input_shape=None, pooling=None, classes=1000)\n",
    "elif(platform == 'darwin'):\n",
    "    vgg_model = vgg16.VGG16(include_top=True, weights='imagenet', input_tensor=None, input_shape=None, classes=1000)\n",
    "else:\n",
    "    print('Please, run this notebook in Linux or MacOsx')"
   ]
  },
  {
   "cell_type": "code",
   "execution_count": null,
   "metadata": {
    "collapsed": false
   },
   "outputs": [],
   "source": [
    "#Keras permite generar un resumen de la red preentrada VGG16. El resumen muestra las capas y el numero de parametros\n",
    "#de la red.\n",
    "vgg_model.summary()"
   ]
  },
  {
   "cell_type": "code",
   "execution_count": null,
   "metadata": {
    "collapsed": true
   },
   "outputs": [],
   "source": [
    "from utils import get_batches"
   ]
  },
  {
   "cell_type": "code",
   "execution_count": null,
   "metadata": {
    "collapsed": false
   },
   "outputs": [],
   "source": [
    "#======================================\n",
    "#Create batches for train and \n",
    "#validation Stages\n",
    "#======================================\n",
    "\n",
    "img_path = 'data/dogscats/sample/'\n",
    "\n",
    "#Batch size used for fine tune the net\n",
    "batchsize = 64\n",
    "train_batches = get_batches(img_path+'train/', batch_size = batchsize)\n",
    "valid_batches = get_batches(img_path+'valid/', batch_size = batchsize)"
   ]
  },
  {
   "cell_type": "code",
   "execution_count": null,
   "metadata": {
    "collapsed": true
   },
   "outputs": [],
   "source": [
    "from keras.optimizers import Adam\n",
    "from keras.layers import Dense, Flatten\n",
    "from keras.models import Model\n",
    "\n",
    "def finetune(base_model, batches):\n",
    "    \n",
    "    for layer in base_model.layers:\n",
    "        layer.trainable = False\n",
    "    \n",
    "    base_model.layers.pop()\n",
    "    x = base_model.layers[-1].output\n",
    "    predictions = Dense(batches.nb_class, activation='softmax')(x)\n",
    "\n",
    "    model = Model(input=base_model.input, output=predictions)\n",
    "\n",
    "    model.compile(optimizer=Adam(lr=0.01), loss='categorical_crossentropy', metrics=['accuracy'])\n",
    "    \n",
    "    return model\n",
    "\n",
    "def fit(model, batches, val_batches, nb_epoch=1):\n",
    "        model.fit_generator(batches, samples_per_epoch=batches.nb_sample, nb_epoch=nb_epoch,\n",
    "                validation_data=val_batches, nb_val_samples=val_batches.nb_sample)"
   ]
  },
  {
   "cell_type": "code",
   "execution_count": null,
   "metadata": {
    "collapsed": false
   },
   "outputs": [],
   "source": [
    "#======================================\n",
    "#Finetuning and fit\n",
    "#======================================\n",
    "\n",
    "import time\n",
    "\n",
    "epochs = 2\n",
    "fine_model = finetune(vgg_model, train_batches)\n",
    "fine_model.summary()"
   ]
  },
  {
   "cell_type": "code",
   "execution_count": null,
   "metadata": {
    "collapsed": false
   },
   "outputs": [],
   "source": [
    "#Esto puede tomar aproxidamente 5 minutos\n",
    "\n",
    "start = time.time()\n",
    "fit(fine_model, train_batches, valid_batches, nb_epoch=epochs)\n",
    "end = time.time()\n",
    "\n",
    "print('execution time: ', end-start)"
   ]
  },
  {
   "cell_type": "code",
   "execution_count": null,
   "metadata": {
    "collapsed": false
   },
   "outputs": [],
   "source": [
    "batchsize = 4\n",
    "batch_to_predict = get_batches(img_path+'valid/', batch_size=batchsize)"
   ]
  },
  {
   "cell_type": "code",
   "execution_count": null,
   "metadata": {
    "collapsed": false
   },
   "outputs": [],
   "source": [
    "#======================================\n",
    "#Use fine-tunned model to classify\n",
    "#======================================\n",
    "\n",
    "#Ejecutemos esta celda multiples veces para visualizar las predicciones de la red neuronal\n",
    "#entrenada, ante distinta imagenes de perros y gatos\n",
    "\n",
    "imgs, labels = next(batch_to_predict)\n",
    "\n",
    "pred = fine_model.predict(imgs)\n",
    "\n",
    "pred_class = np.round(pred[:,1])\n",
    "\n",
    "pred_label = []\n",
    "\n",
    "for cl in pred_class:\n",
    "    if cl == 1:\n",
    "        pred_label.append('perro')\n",
    "    else:\n",
    "        pred_label.append('gato')\n",
    "\n",
    "plots(imgs, titles=pred_label)\n",
    "print(pred)"
   ]
  },
  {
   "cell_type": "code",
   "execution_count": null,
   "metadata": {
    "collapsed": true
   },
   "outputs": [],
   "source": []
  }
 ],
 "metadata": {
  "anaconda-cloud": {},
  "kernelspec": {
   "display_name": "Python [deeplearning]",
   "language": "python",
   "name": "Python [deeplearning]"
  },
  "language_info": {
   "codemirror_mode": {
    "name": "ipython",
    "version": 2
   },
   "file_extension": ".py",
   "mimetype": "text/x-python",
   "name": "python",
   "nbconvert_exporter": "python",
   "pygments_lexer": "ipython2",
   "version": "2.7.12"
  }
 },
 "nbformat": 4,
 "nbformat_minor": 2
}
